{
 "cells": [
  {
   "cell_type": "code",
   "execution_count": 1,
   "metadata": {},
   "outputs": [
    {
     "data": {
      "text/plain": [
       "Index(['SÉRIE', 'VALOR'], dtype='object')"
      ]
     },
     "metadata": {},
     "output_type": "display_data"
    },
    {
     "name": "stdout",
     "output_type": "stream",
     "text": [
      "NFC-e com série 1 total de: 1298\n",
      "NFC-e com série 3 total de: 298\n",
      "NFC-e com série 4 total de: 4479\n",
      "\n",
      "*-**-**-**-**-**-**-**-**-**-**-**-**-**-**-**-**-**-**-**-**-**-**-**-**-*\n",
      "\n",
      "A soma da coluna VALOR para série 1 é de: R$ 42,025.41\n",
      "A soma da coluna VALOR para série 3 é de: R$ 13,968.61\n",
      "A soma da coluna VALOR para série 4 é de: R$ 140,049.20\n",
      "\n",
      "*-**-**-**-**-**-**-**-**-**-**-**-**-**-**-**-**-**-**-**-**-**-**-**-**-*\n",
      "\n",
      "O Valor total das Notas no arquivo é de: R$ 196,043.22\n"
     ]
    }
   ],
   "source": [
    "import pandas as pd\n",
    "\n",
    "# Carregar o arquivo xls\n",
    "caminho_arquivo = 'Planilha_Contador.xls'  # Substitua pelo caminho real do seu arquivo XLS\n",
    "\n",
    "# Carregar o arquivo xls\n",
    "df_xls = pd.read_excel(caminho_arquivo)\n",
    "\n",
    "nome_coluna = 'VALOR'  # Nome da coluna que deseja verificar\n",
    "\n",
    "# Verificar se a coluna existe\n",
    "display(df_xls.columns)\n",
    "\n",
    "# Limpar os valores na coluna 'VALOR' removendo pontos e convertendo para numérico\n",
    "df_xls[nome_coluna] = df_xls[nome_coluna].str.replace('.', '').str.replace(',', '.').astype(float)\n",
    "\n",
    "# Calcular as somas por número de série\n",
    "soma_serie_1 = df_xls.loc[df_xls['SÉRIE'] == 1, nome_coluna].sum()\n",
    "soma_serie_3 = df_xls.loc[df_xls['SÉRIE'] == 3, nome_coluna].sum()\n",
    "soma_serie_4 = df_xls.loc[df_xls['SÉRIE'] == 4, nome_coluna].sum()\n",
    "\n",
    "# Filtrar as NFC-e com séries\n",
    "quantidade_serie_1 = len(df_xls[df_xls['SÉRIE'] == 1])\n",
    "quantidade_serie_3 = len(df_xls[df_xls['SÉRIE'] == 3])\n",
    "quantidade_serie_4 = len(df_xls[df_xls['SÉRIE'] == 4])\n",
    "\n",
    "# Exibir os resultados\n",
    "print(f\"NFC-e com série 1 total de: {quantidade_serie_1}\")\n",
    "print(f\"NFC-e com série 3 total de: {quantidade_serie_3}\")\n",
    "print(f\"NFC-e com série 4 total de: {quantidade_serie_4}\")\n",
    "print('')\n",
    "print('*-*' * 25)\n",
    "print('')\n",
    "print(f\"A soma da coluna {nome_coluna} para série 1 é de: R$ {soma_serie_1:,.2f}\")\n",
    "print(f\"A soma da coluna {nome_coluna} para série 3 é de: R$ {soma_serie_3:,.2f}\")\n",
    "print(f\"A soma da coluna {nome_coluna} para série 4 é de: R$ {soma_serie_4:,.2f}\")\n",
    "\n",
    "# Carregar o arquivo CSV\n",
    "caminho_arquivo = 'Planilha_Contador.csv'  # Substitua pelo caminho real do seu arquivo CSV\n",
    "nome_coluna1 = 'VALOR'  # Substitua pelo nome da coluna que deseja somar\n",
    "\n",
    "# Carregar o arquivo CSV e selecionar a coluna desejada\n",
    "df = pd.read_csv(caminho_arquivo, delimiter=';')\n",
    "\n",
    "# Limpar os valores na coluna 'VALOR' removendo pontos e convertendo para numérico\n",
    "df[nome_coluna1] = df[nome_coluna1].str.replace('.', '').str.replace(',', '.').astype(float)\n",
    "\n",
    "# Calcular a soma da coluna\n",
    "soma = df[nome_coluna1].sum()\n",
    "\n",
    "# Exibir o resultado\n",
    "print('')\n",
    "print('*-*' * 25)\n",
    "print('')\n",
    "print('O Valor total das Notas no arquivo é de: R$ {:,.2f}'.format(soma))\n"
   ]
  }
 ],
 "metadata": {
  "kernelspec": {
   "display_name": "Python 3",
   "language": "python",
   "name": "python3"
  },
  "language_info": {
   "codemirror_mode": {
    "name": "ipython",
    "version": 3
   },
   "file_extension": ".py",
   "mimetype": "text/x-python",
   "name": "python",
   "nbconvert_exporter": "python",
   "pygments_lexer": "ipython3",
   "version": "3.11.2"
  },
  "orig_nbformat": 4
 },
 "nbformat": 4,
 "nbformat_minor": 2
}

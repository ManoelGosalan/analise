{
 "cells": [
  {
   "cell_type": "code",
   "execution_count": 27,
   "metadata": {},
   "outputs": [
    {
     "name": "stdout",
     "output_type": "stream",
     "text": [
      "Abaixo segue o resumo da Análise dos XMLs\n",
      "\n",
      "NFC-e com série 1 total de: 1306\n",
      "NFC-e com série 3 total de: 298\n",
      "NFC-e com série 4 total de: 4480\n",
      "\n",
      "A soma dos valores da série 1 é de: R$ 42,136.82\n",
      "A soma dos valores da série 3 é de: R$ 13,968.61\n",
      "A soma dos valores da série 4 é de: R$ 140,076.19\n",
      "\n",
      "O valor total pago em todas as notas é de: R$ 196,229.09\n",
      "A soma total das notas é de: 6084\n"
     ]
    }
   ],
   "source": [
    "import os\n",
    "import pandas as pd\n",
    "import xml.etree.ElementTree as ET\n",
    "\n",
    "def executar_codigo():\n",
    "    caminho_pasta_xml = 'C:/xmlmarco/NFCe'  # Substitua pelo caminho da pasta onde estão os arquivos XML\n",
    "\n",
    "    soma_serie_1 = 0\n",
    "    soma_serie_3 = 0\n",
    "    soma_serie_4 = 0\n",
    "    quantidade_serie_1 = 0\n",
    "    quantidade_serie_3 = 0\n",
    "    quantidade_serie_4 = 0\n",
    "    soma_total = 0\n",
    "\n",
    "    for arquivo in os.listdir(caminho_pasta_xml):\n",
    "        if arquivo.endswith('.xml'):\n",
    "            caminho_arquivo = os.path.join(caminho_pasta_xml, arquivo)\n",
    "            tree = ET.parse(caminho_arquivo)\n",
    "            root = tree.getroot()\n",
    "\n",
    "            ns = {'nfe': 'http://www.portalfiscal.inf.br/nfe'}\n",
    "\n",
    "            valor_element = root.find('.//nfe:vNF', ns)\n",
    "            serie_element = root.find('.//nfe:serie', ns)\n",
    "\n",
    "            if valor_element is not None and serie_element is not None:\n",
    "                valor = float(valor_element.text)\n",
    "                serie = int(serie_element.text)\n",
    "\n",
    "                soma_total += valor\n",
    "\n",
    "                if serie == 1:\n",
    "                    soma_serie_1 += valor\n",
    "                    quantidade_serie_1 += 1\n",
    "                elif serie == 3:\n",
    "                    soma_serie_3 += valor\n",
    "                    quantidade_serie_3 += 1\n",
    "                elif serie == 4:\n",
    "                    soma_serie_4 += valor\n",
    "                    quantidade_serie_4 += 1\n",
    "\n",
    "    resultado_texto = f\"Abaixo segue o resumo da Análise dos XMLs\\n\"\\\n",
    "                     f\"\\n\"\\\n",
    "                     f\"NFC-e com série 1 total de: {quantidade_serie_1}\\n\" \\\n",
    "                     f\"NFC-e com série 3 total de: {quantidade_serie_3}\\n\" \\\n",
    "                     f\"NFC-e com série 4 total de: {quantidade_serie_4}\\n\" \\\n",
    "                     f\"\\n\" \\\n",
    "                     f\"A soma dos valores da série 1 é de: R$ {soma_serie_1:,.2f}\\n\" \\\n",
    "                     f\"A soma dos valores da série 3 é de: R$ {soma_serie_3:,.2f}\\n\" \\\n",
    "                     f\"A soma dos valores da série 4 é de: R$ {soma_serie_4:,.2f}\\n\" \\\n",
    "                     f\"\\n\" \\\n",
    "                     f\"O valor total pago em todas as notas é de: R$ {soma_total:,.2f}\\n\" \\\n",
    "                     f\"A soma total das notas é de: {quantidade_serie_1 + quantidade_serie_3 + quantidade_serie_4}\"\n",
    "\n",
    "    print(resultado_texto)\n",
    "\n",
    "    # Criar um DataFrame com os resultados\n",
    "    dados = {\n",
    "        'Série': [1, 3, 4],\n",
    "        'Quantidade': [quantidade_serie_1, quantidade_serie_3, quantidade_serie_4],\n",
    "        'Soma dos Valores': [soma_serie_1, soma_serie_3, soma_serie_4]\n",
    "    }\n",
    "    df = pd.DataFrame(dados)\n",
    "# Executar o código\n",
    "executar_codigo()\n"
   ]
  }
 ],
 "metadata": {
  "kernelspec": {
   "display_name": "Python 3",
   "language": "python",
   "name": "python3"
  },
  "language_info": {
   "codemirror_mode": {
    "name": "ipython",
    "version": 3
   },
   "file_extension": ".py",
   "mimetype": "text/x-python",
   "name": "python",
   "nbconvert_exporter": "python",
   "pygments_lexer": "ipython3",
   "version": "3.11.2"
  },
  "orig_nbformat": 4
 },
 "nbformat": 4,
 "nbformat_minor": 2
}

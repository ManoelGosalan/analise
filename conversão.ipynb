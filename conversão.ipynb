{
 "cells": [
  {
   "cell_type": "code",
   "execution_count": 4,
   "metadata": {},
   "outputs": [
    {
     "name": "stdout",
     "output_type": "stream",
     "text": [
      "Arquivo Excel gerado com sucesso: dados_xmls.xlsx\n"
     ]
    }
   ],
   "source": [
    "import os\n",
    "import pandas as pd\n",
    "import xml.etree.ElementTree as ET\n",
    "\n",
    "# Diretório contendo os arquivos XML\n",
    "diretorio_xmls = r'C:\\macena\\NFCe'\n",
    "\n",
    "# Dicionário para armazenar os dados por tag\n",
    "dados_por_tag = {}\n",
    "\n",
    "# Percorre todos os arquivos no diretório\n",
    "for arquivo in os.listdir(diretorio_xmls):\n",
    "    if arquivo.endswith('.xml'):\n",
    "        # Caminho completo do arquivo XML\n",
    "        caminho_xml = os.path.join(diretorio_xmls, arquivo)\n",
    "\n",
    "        # Lê o arquivo XML\n",
    "        tree = ET.parse(caminho_xml)\n",
    "        root = tree.getroot()\n",
    "\n",
    "        # Percorre todas as tags do XML\n",
    "        for tag in root.iter():\n",
    "            # Ignora as tags de atributos\n",
    "            if not tag.attrib:\n",
    "                # Obtém o nome da tag\n",
    "                nome_tag = tag.tag\n",
    "                \n",
    "                # Verifica se a tag já existe no dicionário\n",
    "                if nome_tag in dados_por_tag:\n",
    "                    # Adiciona os dados da tag no dicionário\n",
    "                    dados_por_tag[nome_tag].append(tag.text)\n",
    "                else:\n",
    "                    # Cria uma nova entrada no dicionário para a tag\n",
    "                    dados_por_tag[nome_tag] = [tag.text]\n",
    "\n",
    "# Encontra o comprimento máximo dos arrays de dados\n",
    "comprimento_maximo = max(len(dados) for dados in dados_por_tag.values())\n",
    "\n",
    "# Preenche os arrays de dados com NaN para ter o mesmo comprimento\n",
    "for dados in dados_por_tag.values():\n",
    "    while len(dados) < comprimento_maximo:\n",
    "        dados.append(None)\n",
    "\n",
    "# Cria um DataFrame a partir do dicionário de dados\n",
    "df = pd.DataFrame(dados_por_tag)\n",
    "\n",
    "# Define o caminho do arquivo Excel de saída\n",
    "caminho_excel = 'dados_xmls.xlsx'\n",
    "\n",
    "# Salva o DataFrame como uma planilha Excel\n",
    "df.to_excel(caminho_excel, index=False)\n",
    "\n",
    "print(f\"Arquivo Excel gerado com sucesso: {caminho_excel}\")\n"
   ]
  }
 ],
 "metadata": {
  "kernelspec": {
   "display_name": "Python 3",
   "language": "python",
   "name": "python3"
  },
  "language_info": {
   "codemirror_mode": {
    "name": "ipython",
    "version": 3
   },
   "file_extension": ".py",
   "mimetype": "text/x-python",
   "name": "python",
   "nbconvert_exporter": "python",
   "pygments_lexer": "ipython3",
   "version": "3.11.2"
  },
  "orig_nbformat": 4
 },
 "nbformat": 4,
 "nbformat_minor": 2
}

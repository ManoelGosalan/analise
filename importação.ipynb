{
 "cells": [
  {
   "cell_type": "code",
   "execution_count": null,
   "metadata": {},
   "outputs": [],
   "source": [
    "import pandas as pd\n",
    "\n",
    "# Carregar o arquivo xls\n",
    "caminho_arquivo = 'Planilha_1685109397404.xlsx'  # Substitua pelo caminho real do seu arquivo XLS\n",
    "\n",
    "# Carregar o arquivo xls\n",
    "df_xlsx = pd.read_excel(caminho_arquivo, engine= 'openpyxl')\n",
    "\n",
    "# Verificarf colunas\n",
    "display(df_xlsx.columns)\n",
    "\n",
    "\n",
    "\n",
    "# Exportar os dados para um arquivo xlsx\n",
    "#df_xls.to_excel('dados_exportados.xlsx', index=False)\n"
   ]
  },
  {
   "cell_type": "code",
   "execution_count": 20,
   "metadata": {},
   "outputs": [
    {
     "name": "stdout",
     "output_type": "stream",
     "text": [
      "3.1.2\n"
     ]
    }
   ],
   "source": [
    "import openpyxl\n",
    "\n",
    "print(openpyxl.__version__)\n"
   ]
  }
 ],
 "metadata": {
  "kernelspec": {
   "display_name": "Python 3",
   "language": "python",
   "name": "python3"
  },
  "language_info": {
   "codemirror_mode": {
    "name": "ipython",
    "version": 3
   },
   "file_extension": ".py",
   "mimetype": "text/x-python",
   "name": "python",
   "nbconvert_exporter": "python",
   "pygments_lexer": "ipython3",
   "version": "3.11.2"
  },
  "orig_nbformat": 4
 },
 "nbformat": 4,
 "nbformat_minor": 2
}
